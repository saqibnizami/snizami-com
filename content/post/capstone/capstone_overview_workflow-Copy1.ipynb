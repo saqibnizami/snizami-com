{
 "cells": [
  {
   "cell_type": "markdown",
   "metadata": {},
   "source": []
  },
  {
   "cell_type": "markdown",
   "metadata": {},
   "source": [
    "##### Project Statement / DS Question:\n",
    "* Can a Convolutional Neural Network (ConvNet) be used to identify malignant cancer from histopathology slides? How can the ConvNet be interpreted?"
   ]
  },
  {
   "cell_type": "markdown",
   "metadata": {},
   "source": [
    "The deep learning abilities of Convolutional Neural Networks have proven to be a boon to many industries, from facial recognition in security to self-driving automobiles. Convolutional Neural Networks differ from traditional feed-forward neural networks in that they feature 'convolutional' and 'pooling' layers. The convolutional layer applies a mathematical transformation to the output of the previous node, based on a certain piece of the image, denoted by the filter size. The convolved features are then pooled to provide parameters for the model. The model then selects features to use to classify images. However, the "
   ]
  },
  {
   "cell_type": "markdown",
   "metadata": {},
   "source": [
    "The dataset used in this capstone was breast cancer histology slides, classified into 4 classes by 2 different pathology teams.\n",
    ">http://journals.plos.org/plosone/article?id=10.1371/journal.pone.0177544s\n",
    "\n",
    "    - resolution: 2040x1536px\n",
    "    - from _BioImaging 2015 breast histology classification challenge_\n",
    "    - four balanced classes: \n",
    "                normal, \n",
    "                benign lesion, \n",
    "                _in situ_ carcinoma, \n",
    "                invasive carcinoma \n",
    "    - dataset composition: 250 image training set and 20 image test set\n",
    "![Data Classes](classes.jpg)\n",
    "\n",
    "Since the training set of this data contained only 250 samples, image augmentation and patches were considered. Each one of the 2048x1536px images were divided into patches of 512x512 squaresm to be fed into the neural network.\n",
    "\n",
    "![Preprocessing](preprocessing.jpg)\n",
    "\n",
    "Next, the patches were augmented, using `ImageDataGenerator` in keras. This allowed for patches rotated at 0, 90, 270, 180 degrees, as well as vertically and horizontally. Since histology images are graded in an orientation agnositic manner, the augmented patches retained their classifications. The augmentation expanded the 250 image dataset to 70,000 patches.\n",
    "\n",
    "![Augmentation](augmentation.jpg)\n"
   ]
  },
  {
   "cell_type": "markdown",
   "metadata": {},
   "source": [
    "#### Convolutional Neural Net Architecture"
   ]
  },
  {
   "cell_type": "markdown",
   "metadata": {},
   "source": [
    "The architecture of the network was designed to train on different aspects of the tissue sample from edges for cellular membranes to nuclear arraingement.\n",
    "\n",
    "![Arch"
   ]
  },
  {
   "cell_type": "raw",
   "metadata": {},
   "source": [
    "0. Input... 512,512,3  ...(BatchNormalization layer?) \n",
    "    --> https://arxiv.org/pdf/1502.03167.pdf \n",
    "        \"BatchNormalization: Acc. Deep Network Training by Reducing Internal Covariate Shift\"\n",
    "1.      BATCHNORMALIZATION\n",
    "2. Conv ... 510,510,16 ... 3x3 valid  --> relu\n",
    "\n",
    "3. MP   ... 170,170,16 ... 3x3 valid\n",
    "4. Conv ... 168,168,32 ... 3x3 valid  --> relu\n",
    "5. MP   ... 84,84,32   ... 2x2 valid\n",
    "6. Conv ... 84,84,64   ... 3x3 same   --> relu\n",
    "7. MP   ... 42,42,64   ... 2x2 valid \n",
    "8. Conv ... 42,42,64   ... 3x3 same   --> relu\n",
    "9. MP   ... 14,14,64   ... 3x3 valid\n",
    "10. Conv ... 12,12,32  ... 3x3 valid  --> relu\n",
    "11. MP  ... 12,12,32   ... 3x3 valid\n",
    "12.    FLATTEN\n",
    "13. FC  ... 256\n",
    "14. FC  ... 128\n",
    "15. FC  ... 4                         --> softmax\n",
    "\n",
    "\n"
   ]
  }
 ],
 "metadata": {
  "kernelspec": {
   "display_name": "Python [conda env:dsi]",
   "language": "python",
   "name": "conda-env-dsi-py"
  },
  "language_info": {
   "codemirror_mode": {
    "name": "ipython",
    "version": 3
   },
   "file_extension": ".py",
   "mimetype": "text/x-python",
   "name": "python",
   "nbconvert_exporter": "python",
   "pygments_lexer": "ipython3",
   "version": "3.6.5"
  }
 },
 "nbformat": 4,
 "nbformat_minor": 2
}
